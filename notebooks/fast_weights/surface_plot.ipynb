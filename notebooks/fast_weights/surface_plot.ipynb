{
 "cells": [
  {
   "cell_type": "code",
   "execution_count": 3,
   "metadata": {},
   "outputs": [],
   "source": [
    "%matplotlib widget\n",
    "import matplotlib\n",
    "import numpy as np\n",
    "import matplotlib.pyplot as plt\n",
    "from mpl_toolkits.mplot3d import Axes3D\n",
    "import seaborn as sns"
   ]
  },
  {
   "cell_type": "code",
   "execution_count": 6,
   "metadata": {},
   "outputs": [
    {
     "data": {
      "application/vnd.jupyter.widget-view+json": {
       "model_id": "5a78d2c594d14cfea6b62ec1c540772d",
       "version_major": 2,
       "version_minor": 0
      },
      "text/plain": [
       "Canvas(toolbar=Toolbar(toolitems=[('Home', 'Reset original view', 'home', 'home'), ('Back', 'Back to previous …"
      ]
     },
     "metadata": {},
     "output_type": "display_data"
    }
   ],
   "source": [
    "x = np.linspace(0,1,50)\n",
    "y = np.linspace(0,1,50)\n",
    "z = np.linspace(0,1,50)\n",
    "\n",
    "Z = np.outer(z.T, z)        # 50x50\n",
    "X, Y = np.meshgrid(x, y)    # 50x50\n",
    "\n",
    "color_dimension = 0.162360 + 0.059561*X + 0.3884*Y + 0.227154*Z + \\\n",
    "    0.069101*X*Y + 0.102860*X*Z - 0.021391*Y*Z -0.05879*X*Y*Z\n",
    "color_dimension /= 2\n",
    "minn, maxx = color_dimension.min(), color_dimension.max()\n",
    "norm = matplotlib.colors.Normalize(minn, maxx)\n",
    "m = plt.cm.ScalarMappable(norm=norm, cmap='coolwarm')\n",
    "m.set_array([])\n",
    "fcolors = m.to_rgba(color_dimension)\n",
    "\n",
    "# plot\n",
    "# fig = plt.figure()\n",
    "fig = plt.figure(figsize=(8, 6))\n",
    "ax = fig.gca(projection='3d')\n",
    "ax.plot_surface(X,Y,Z, rstride=1, cstride=1, facecolors=fcolors, vmin=minn, vmax=maxx, shade=False)\n",
    "ax.set_xlabel('LN')\n",
    "ax.set_ylabel('DE')\n",
    "ax.set_zlabel('HS')\n",
    "plt.show()"
   ]
  }
 ],
 "metadata": {
  "kernelspec": {
   "display_name": "Python 3",
   "language": "python",
   "name": "python3"
  },
  "language_info": {
   "codemirror_mode": {
    "name": "ipython",
    "version": 3
   },
   "file_extension": ".py",
   "mimetype": "text/x-python",
   "name": "python",
   "nbconvert_exporter": "python",
   "pygments_lexer": "ipython3",
   "version": "3.6.8"
  }
 },
 "nbformat": 4,
 "nbformat_minor": 4
}
