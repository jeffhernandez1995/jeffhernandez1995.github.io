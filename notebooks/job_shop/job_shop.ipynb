{
 "cells": [
  {
   "cell_type": "markdown",
   "metadata": {
    "colab_type": "text",
    "id": "2wK2qWR4IOxX"
   },
   "source": [
    "# Imports and preamble"
   ]
  },
  {
   "cell_type": "code",
   "execution_count": 1,
   "metadata": {
    "colab": {},
    "colab_type": "code",
    "id": "J46Nnb_KIf2l"
   },
   "outputs": [
    {
     "name": "stdout",
     "output_type": "stream",
     "text": [
      "Collecting pulp\n",
      "\u001b[?25l  Downloading https://files.pythonhosted.org/packages/fb/34/ff5915ff6bae91cfb7c4cc22c3c369a6aea0b2127045dd5f308a91c260ac/PuLP-2.0-py3-none-any.whl (39.2MB)\n",
      "\u001b[K    100% |████████████████████████████████| 39.2MB 1.1MB/s \n",
      "\u001b[?25hRequirement already satisfied: pyparsing>=2.0.1 in /home/jefehern/anaconda3/lib/python3.7/site-packages (from pulp) (2.3.1)\n",
      "Installing collected packages: pulp\n",
      "Successfully installed pulp-2.0\n",
      "E: Could not open lock file /var/lib/dpkg/lock-frontend - open (13: Permission denied)\n",
      "E: Unable to acquire the dpkg frontend lock (/var/lib/dpkg/lock-frontend), are you root?\n",
      "E: Could not open lock file /var/lib/dpkg/lock-frontend - open (13: Permission denied)\n",
      "E: Unable to acquire the dpkg frontend lock (/var/lib/dpkg/lock-frontend), are you root?\n"
     ]
    }
   ],
   "source": [
    "# !pip install pulp\n",
    "# !apt-get install glpk-utils\n",
    "# !apt-get install coinor-cbc"
   ]
  },
  {
   "cell_type": "code",
   "execution_count": 1,
   "metadata": {
    "colab": {},
    "colab_type": "code",
    "id": "ykHNKXZMBGsM"
   },
   "outputs": [],
   "source": [
    "import numpy as np\n",
    "import pulp"
   ]
  },
  {
   "cell_type": "markdown",
   "metadata": {
    "colab_type": "text",
    "id": "7EpiTMPitHs8"
   },
   "source": [
    "## Kestrel solver"
   ]
  },
  {
   "cell_type": "code",
   "execution_count": 2,
   "metadata": {
    "colab": {},
    "colab_type": "code",
    "id": "Ibus1YeNtHD0"
   },
   "outputs": [],
   "source": [
    "import time\n",
    "import xmlrpc.client\n",
    "import sys\n",
    "import os\n",
    "import lxml.etree\n",
    "import lxml.builder \n",
    "from pulp.solvers import LpSolver_CMD\n",
    "from pulp.solvers import PulpSolverError\n",
    "from pulp.constants import *"
   ]
  },
  {
   "cell_type": "code",
   "execution_count": 3,
   "metadata": {
    "colab": {},
    "colab_type": "code",
    "id": "pgnffuYitdB4"
   },
   "outputs": [],
   "source": [
    "class Kestrel(LpSolver_CMD):\n",
    "    \"\"\"\n",
    "    API Wrapper for Neos Solver XML-RPC API. Compatible with pulp linear programming api.\n",
    "    Only Xpress solver works; in the future more solvers will be added\n",
    "    :param ptype: problem type for example 'milp': mixed integer linear programming\n",
    "    olny tested with 'milp', 'lp'\n",
    "    :param maximize: 'yes' or 'no' to maximize or minimize respectibly\n",
    "    :param email: add your email\n",
    "    :param priority: default 'long', if 'short' is scpecified job will be killed after 5 min\n",
    "    :param  keepFiles = 0, mip = 1, msg = 0, options = []: neccesary to make LpSolver_CMD  work\n",
    "    \"\"\"\n",
    "    def __init__(self, ptype, maximize=None, email=None, priority=None, keepFiles=0, mip=1, msg=0, options=[]):\n",
    "        self.ptype = ptype\n",
    "        if maximize:\n",
    "            self.maximize = 'yes'\n",
    "        else:\n",
    "            self.maximize = \"no\"\n",
    "        if email:\n",
    "            self.email=email\n",
    "        else:\n",
    "            raise ValueError('Missing email')\n",
    "        if priority:\n",
    "            self.priority = priority\n",
    "        else:\n",
    "            self.priority = 'long'\n",
    "        LpSolver_CMD.__init__(self, './', keepFiles, mip, msg, options)\n",
    "\n",
    "    def copy(self):\n",
    "        \"\"\"Make a copy of self\"\"\"\n",
    "        aCopy = LpSolver_CMD.copy(self)\n",
    "        aCopy.cuts = self.cuts\n",
    "        aCopy.presolve = self.presolve\n",
    "        aCopy.dual = self.dual\n",
    "        aCopy.strong = self.strong\n",
    "        return aCopy\n",
    "\n",
    "    def actualSolve(self, lp, **kwargs):\n",
    "        \"\"\"Solve a well formulated lp problem\"\"\"\n",
    "        return self.solve_Kestrel(lp, **kwargs)\n",
    "\n",
    "    def available(self):\n",
    "        \"\"\"True if the solver is available\"\"\"\n",
    "        neos = xmlrpc.client.ServerProxy(\"https://neos-server.org:3333\")\n",
    "        alive = neos.ping()\n",
    "        if alive!=\"NeosServer is alive\\n\":\n",
    "            print(\"Could not make connection to NEOS Server\")\n",
    "            available = False\n",
    "        else:\n",
    "            available = True\n",
    "        return available\n",
    "\n",
    "    def solve_Kestrel(self, lp):\n",
    "        vs = lp.writeMPS(\"problem.mps\", rename = 0)\n",
    "        file = open('problem.mps', \"r\")\n",
    "        E = lxml.builder.ElementMaker()\n",
    "        root = E.document\n",
    "        field1 = E.category\n",
    "        field2 = E.solver\n",
    "        field3 = E.inputMethod\n",
    "        field4 = E.MPS\n",
    "        field5 = E.maximize\n",
    "        field6 = E.nosol\n",
    "        field7 = E.email\n",
    "        field8 = E.priority\n",
    "        xmldoc = root(\n",
    "                     field1(self.ptype),\n",
    "                     field2(\"FICO-Xpress\"),\n",
    "                     field3(\"MPS\"),\n",
    "                     field4(lxml.etree.CDATA(file.read())),\n",
    "                     field5(self.maximize),\n",
    "                     field6(\"no\"),\n",
    "                     field7(self.email),\n",
    "                     field8(self.priority))\n",
    "        xml = lxml.etree.tostring(xmldoc).decode()\n",
    "        file.close()\n",
    "        try:\n",
    "            os.remove('problem.mps')\n",
    "        except:\n",
    "            pass\n",
    "        neos = xmlrpc.client.ServerProxy(\"https://neos-server.org:3333\")\n",
    "        alive = neos.ping()\n",
    "        if alive != \"NeosServer is alive\\n\":\n",
    "            raise RuntimeError(\"Could not make connection to NEOS Server\")\n",
    "        else:\n",
    "            (jobNumber, password) = neos.submitJob(xml)\n",
    "            print(\"Job number = {} Job password = {}\".format(jobNumber, password))\n",
    "            if jobNumber == 0:\n",
    "                raise RuntimeError(\"NEOS Server error: {}\".format(password))\n",
    "            else:\n",
    "                status=\"\"\n",
    "                while status!=\"Done\":\n",
    "                    time.sleep(5)\n",
    "                    status= neos.getJobStatus(jobNumber, password)\n",
    "                    print('Solving... Problem status: ', status)\n",
    "                msg=neos.getFinalResults(jobNumber, password)\n",
    "                #print(msg.data.decode())\n",
    "                tmpSol=open('tmpSol.txt', 'w')\n",
    "                tmpSol.write(msg.data.decode())\n",
    "                tmpSol.close()\n",
    "        values= self.readsol_MPS(self.path+'tmpSol.txt')\n",
    "        try:\n",
    "            os.remove('tmpSol.txt')\n",
    "        except:\n",
    "            pass\n",
    "        kestrelStatus = {\"Done\": LpStatusOptimal}\n",
    "        if status not in kestrelStatus:\n",
    "            raise PulpSolverError(\"Unknown status returned by Kestrel: \" + statusString)\n",
    "        lp.status = kestrelStatus[status]\n",
    "        lp.assignVarsVals(values)\n",
    "        return lp.status\n",
    "\n",
    "    def readsol_MPS(self, filename):\n",
    "        with open(filename,'r') as f:\n",
    "            values = {}\n",
    "            while 1:\n",
    "                l = f.readline()\n",
    "                if l == \"\": break\n",
    "                line = l.split()\n",
    "                if len(line) and line[0] == 'C':\n",
    "                    name = line[2]\n",
    "                    value = float(line[4])\n",
    "                    values[name] = value\n",
    "        return values"
   ]
  },
  {
   "cell_type": "markdown",
   "metadata": {
    "colab_type": "text",
    "id": "fV4WySeFKR0M"
   },
   "source": [
    "# Job shop Scheduling\n",
    "Scheduling es la asignación de recursos a lo largo del tiempo. En los Job shop mal programados, no es nada raro que los trabajos esperen durante el 95 por ciento de su ciclo de producción total. Esto resulta en un largo ciclo de flujo de trabajo. Si a esto le sumamos el tiempo de inventario y el tiempo de cobro de cuentas por cobrar, se obtendrá un largo ciclo de flujo de caja. Por lo tanto, el flujo de trabajo es igual al flujo de caja, y el flujo de trabajo es impulsado por el schedule. Un schedule es un calendario para realizar actividades, utilizar recursos o asignar instalaciones.\n",
    "\n",
    "En un problema de Scheduling tenemos que realizar un conjunto de trabajos en varios procesadores que utilizan otros recursos bajo ciertas restricciones, como restricciones en los tiempos de finalización del trabajo, prioridades entre trabajos (un trabajo no puede comenzar hasta que otro está terminado), etc. El objetivo es optimizar algún criterio, por ejemplo, minimizar el tiempo total de procesamiento, que es el tiempo de finalización del último trabajo (suponiendo que el primer trabajo comienza en el tiempo $0$); o maximizar el número de trabajos procesados.\n",
    "\n",
    "A continuación formulamos un problema de scheduling muy general que subsume como casos especiales una gran cantidad de problemas de scheduling estudiados en la literatura.\n",
    "\n",
    "## Fomulacion del problema de Job shop scheduling\n",
    "Se nos dan $n$ trabajos para ser procesados en $m$ procesadores (máquinas). Sea $M_j \\subseteq \\mathcal{P} = \\{ 1, \\cdots, m\\}$ el subconjunto de procesadores que pueden cumplir con el trabajo $j \\in \\mathcal{J} = \\{ 1, \\cdots, n\\}$. Cada trabajo $j$ se caracteriza por los siguientes parámetros:\n",
    "\n",
    "\n",
    "*   $w_j$: peso del trabajo\n",
    "*   $r_j, d_j$: fechas de liberación y vencimiento (el trabajo debe procesarse durante el intervalo de tiempo $[r_j, d_j]$\n",
    "*   $p_{jk}$: tiempo de procesamiento en la maquina $k$\n",
    "\n",
    "Las relaciones de precedencia entre puestos de trabajo están dadas por un dígrafo acíclico $G = (\\mathcal{J}, E)$ definido sobre el conjunto $\\mathcal{J}$: paa cada arco $(j_1, j_2) \\in \\mathcal{J}$, el trabajo $j_2$ no puede empezar hasta que el trabajo $j_1$ termine.\n",
    "\n",
    "El Job shop Scheduling implica decidir cuándo iniciar cada paso de cada trabajo en su procesador. Por lo tanto, las variables de decisión de la hora de inicio están ahora indexadas tanto por el trabajo como por el procesador:\n",
    "\\begin{equation}\n",
    "x_{jk} = \\text{hora de inicio del trabajo j en el procesador k}\n",
    "\\end{equation}\n",
    "Los pasos de los distintos trabajos que se programan en job shop deben tener lugar en la secuencia indicada. Es decir, las horas de inicio están sujetas a restricciones de precedencia.\n",
    "la restriction de precedencia que el trabajo $j$ se debe completar en el procesador $k$ antes de que comience la actividad en $k'$ puede expresarse de la siguiente manera\n",
    "\\begin{equation}\n",
    "x_{jk} + p_{jk} \\leq x_{jk'} \n",
    "\\end{equation}\n",
    "donde $x_{jk}$ denota el tiempo de inicio del trabajo $j$ en el procesador $k$, $p_{jk}$  es el tiempo de proceso de $j$ en $k$, y $x_{jk'}$  es el tiempo de inicio del trabajo $j$ en el procesador $k'$.\n",
    "Se puede modelar los conflictos introduciendo variables de decisión discretas\n",
    "\\begin{equation}\n",
    "        y_{jj'k}=\n",
    "        \\begin{cases}\n",
    "            1 & \\text{si j está programado antes del trabajo j' en el procesador k} \\\\\n",
    "            0 &\\text{si no}\n",
    "        \\end{cases}\n",
    "\\end{equation}\n",
    "Asi como las restricciones\n",
    "\\begin{equation}\n",
    "x_{jk} + p_{jk} \\leq x_{j'k} + M(1- y_{jj'k}) \\\\\n",
    "x_{j'k} + p_{j'k} \\leq x_{jk} + My_{jj'k}\n",
    "\\end{equation}\n",
    "Una de las características intrigantes de los modelos Job shop Scheduling es la amplia variedad de funciones objetivo que pueden ser apropiadas.\n",
    "\n",
    "Funcion objetivo |  Ecuacion\n",
    "--- | -----\n",
    "Maximum completion time | $\\max_j \\{ x_{j\\hat{k}} + p_{j\\hat{k}}\\}$\n",
    "Mean completion time | $\\frac{1}{n} \\sum_j x_{j\\hat{k}} + p_{j\\hat{k}}$\n",
    "Maximum flow time | $\\max_j \\{ x_{j\\hat{k}} + p_{j\\hat{k}} - r_j\\}$\n",
    "Mean flow time | $\\frac{1}{n} \\sum_j x_{j\\hat{k}} + p_{j\\hat{k}} - r_j$\n",
    "Maximum lateness | $\\max_j \\{ x_{j\\hat{k}} + p_{j\\hat{k}} - d_j\\}$\n",
    "Mean lateness | $\\frac{1}{n} \\sum_j x_{j\\hat{k}} + p_{j\\hat{k}} - d_j$\n",
    "Maximum tardiness| $\\max_j \\{\\max\\{0, x_{j\\hat{k}} + p_{j\\hat{k}} - d_j\\}\\}$\n",
    "Mean tardiness| $\\frac{1}{n} \\sum_j \\{\\max\\{0, x_{j\\hat{k}} + p_{j\\hat{k}} - d_j\\}$\n",
    "\n",
    "donde $\\hat{k}$ es la ultima maquina donde debe ocurrir el trabajo $j$"
   ]
  },
  {
   "cell_type": "markdown",
   "metadata": {
    "colab_type": "text",
    "id": "O7C9koIUw7WA"
   },
   "source": [
    "## Formulacion en Pulp"
   ]
  },
  {
   "cell_type": "code",
   "execution_count": 4,
   "metadata": {
    "colab": {},
    "colab_type": "code",
    "id": "uUvF1VOTW4XJ"
   },
   "outputs": [],
   "source": [
    "# rows = jobs\n",
    "# columns = machines\n",
    "procesing_times = np.array(\n",
    "    [\n",
    "        [29,78,9,36,49,11,62,56,44,21],\n",
    "        [43,90,75,11,69,28,46,46,72,30],\n",
    "        [91,85,39,74,90,10,12,89,45,33],\n",
    "        [81,95,71,99,9,52,85,98,22,43],\n",
    "        [14,6,22,61,26,69,21,49,72,53],\n",
    "        [84,2,52,95,48,72,47,65,6,25],\n",
    "        [46,37,61,13,32,21,32,89,30,55],\n",
    "        [31,86,46,74,32,88,19,48,36,79],\n",
    "        [76,69,76,51,85,11,40,89,26,74],\n",
    "        [85,13,61,7,64,76,47,52,90,45]\n",
    "    ]\n",
    ")"
   ]
  },
  {
   "cell_type": "code",
   "execution_count": 5,
   "metadata": {
    "colab": {},
    "colab_type": "code",
    "id": "ICMRLYrDX12E"
   },
   "outputs": [],
   "source": [
    "# rows = jobs\n",
    "# columns = machine index\n",
    "order = np.array(\n",
    "    [\n",
    "        [0,1,2,3,4,5,6,7,8,9],\n",
    "        [0,2,4,9,3,1,6,5,7,8],\n",
    "        [1,0,3,2,8,5,7,6,9,4],\n",
    "        [1,2,0,4,6,8,7,3,9,5],\n",
    "        [2,0,1,5,3,4,8,7,9,6],\n",
    "        [2,1,5,3,8,9,0,6,4,7],\n",
    "        [1,0,3,2,6,5,9,8,7,4],\n",
    "        [2,0,1,5,4,6,8,9,7,3],\n",
    "        [0,1,3,5,2,9,6,7,4,8],\n",
    "        [1,0,2,6,8,9,5,3,4,7]\n",
    "    ]\n",
    ")"
   ]
  },
  {
   "cell_type": "code",
   "execution_count": 6,
   "metadata": {
    "colab": {},
    "colab_type": "code",
    "id": "BP-YN_DzZaPD"
   },
   "outputs": [],
   "source": [
    "def job_shop(procesing_times, order):\n",
    "    n_jobs, n_maq  = procesing_times.shape\n",
    "\n",
    "    x = {}\n",
    "    for job in range(n_jobs):\n",
    "        for maq in range(n_maq):\n",
    "            x[(job, maq)] = pulp.LpVariable('x_{}_{}'.format(job, maq), 0, None, pulp.LpContinuous)\n",
    "    y = {}\n",
    "    for maq in range(n_maq):\n",
    "        for job in range(n_jobs):\n",
    "            for job_ in range(n_jobs):\n",
    "                if job < job_:\n",
    "                    y[(job, job_, maq)] = pulp.LpVariable('y_{}_{}_{}'.format(job, job_, maq), 0, 1, pulp.LpInteger)\n",
    "    z = pulp.LpVariable('z', 0, None, pulp.LpContinuous)           \n",
    "\n",
    "    prob = pulp.LpProblem(\"Job_shop\", pulp.LpMinimize)\n",
    "\n",
    "    # Set objective\n",
    "    prob += z\n",
    "\n",
    "    # create precedance constrains\n",
    "    for job in range(n_jobs):\n",
    "        for maq in range(1, n_maq):\n",
    "            prob += x[(job, order[job, maq])] >= x[(job, order[job, maq-1])] + procesing_times[job ,order[job, maq-1]]\n",
    "\n",
    "    # create conflict constrains\n",
    "    for maq in range(n_maq):\n",
    "        for job in range(n_jobs):\n",
    "            for job_ in range(n_jobs):\n",
    "                if job < job_:\n",
    "                    prob += x[(job_, maq)] >= x[(job, maq)] + procesing_times[job, maq] - 9999*y[(job, job_, maq)]\n",
    "                    prob += x[(job, maq)] >= x[(job_, maq)] + procesing_times[job_, maq] - 9999*(1 - y[(job, job_, maq)])\n",
    "\n",
    "    # Objective function\n",
    "    for job in range(n_jobs):\n",
    "        prob += z >= x[(job, order[job, -1])] + procesing_times[job, order[job, -1]]\n",
    "    return prob\n",
    "\n",
    "# Solving\n",
    "# prob = job_shop(procesing_times, order)\n",
    "# prob.writeLP(\"job_shop.lp\")\n",
    "# prob.solve(Kestrel(ptype='milp', email='jefehern@espol.edu.ec'))"
   ]
  },
  {
   "cell_type": "code",
   "execution_count": null,
   "metadata": {
    "colab": {},
    "colab_type": "code",
    "id": "6Dsm2iAGpePM"
   },
   "outputs": [],
   "source": [
    "x_sol = np.zeros((n_jobs, n_maq))\n",
    "for v in prob.variables():\n",
    "    if v.name != 'z':\n",
    "        line = v.name.split(sep='_')\n",
    "        if line[0] == 'x':\n",
    "            x_sol[int(line[1]), int(line[2])] = v.varValue\n",
    "    else:\n",
    "        z_sol = v.varValue"
   ]
  },
  {
   "cell_type": "code",
   "execution_count": 7,
   "metadata": {
    "colab": {},
    "colab_type": "code",
    "id": "ZTGL-ts9wE-W"
   },
   "outputs": [],
   "source": [
    "x_sol = np.array(\n",
    "   [[ 83, 138, 228, 260, 321, 422, 433, 526, 902, 951],\n",
    "    [188, 480, 283, 469, 370, 644, 583, 672, 727, 439],\n",
    "    [428, 309, 593, 519, 882, 677, 807, 718, 632, 849],\n",
    "    [231,  43, 157, 593, 312, 920, 321, 428, 406, 806],\n",
    "    [ 22,  37,   0, 112, 173,  43, 412, 271, 199, 320],\n",
    "    [568, 225,  22, 374, 834, 275, 691, 907, 469, 543],\n",
    "    [ 37,   0,  96,  83, 439, 189, 157, 339, 271, 210],\n",
    "    [312, 394, 237, 898, 640, 552, 672, 807, 691, 727],\n",
    "    [112, 227, 358, 296, 672, 347, 543, 583, 946, 469],\n",
    "    [343, 296, 434, 763, 770, 687, 495, 855, 542, 642]]\n",
    ")\n",
    "z_sol = 972"
   ]
  },
  {
   "cell_type": "code",
   "execution_count": 8,
   "metadata": {
    "colab": {},
    "colab_type": "code",
    "id": "_sQ4ELRxxb64"
   },
   "outputs": [],
   "source": [
    "import random\n",
    "import matplotlib.patches as patches\n",
    "import matplotlib.pyplot as plt\n",
    "import matplotlib.patches as mpatches"
   ]
  },
  {
   "cell_type": "code",
   "execution_count": null,
   "metadata": {
    "colab": {
     "base_uri": "https://localhost:8080/",
     "height": 645
    },
    "colab_type": "code",
    "id": "Aale9tIHw9VA",
    "outputId": "4d535975-c110-4bec-a0b5-29684b7566c5"
   },
   "outputs": [
    {
     "data": {
      "image/png": "[encoded data removed]",
      "text/plain": [
       "<Figure size 2160x720 with 1 Axes>"
      ]
     },
     "metadata": {
      "tags": []
     },
     "output_type": "display_data"
    }
   ],
   "source": [
    "plt.rcParams[\"font.size\"] = \"20\"\n",
    "cmap = plt.get_cmap('Paired')\n",
    "colors = cmap(np.linspace(0, 1, n_maq))\n",
    "fig, ax = plt.subplots(1, 1, figsize=(30,10))\n",
    "ax.set_title('Job shop')\n",
    "height = 0.9\n",
    "for job in range(n_jobs):\n",
    "    for maq in range(n_maq):\n",
    "        ax.add_patch(patches.Rectangle((x_sol[job, maq], job-0.5),\n",
    "                                       procesing_times[job, maq],\n",
    "                                       height,\n",
    "                                       color=colors[maq],\n",
    "                                       alpha=1))\n",
    "ax.set_ylim(-0.5, n_jobs)\n",
    "ax.set_xlim(0, (x_sol + procesing_times).max())\n",
    "ax.set_yticks([job for job in range(n_jobs)])\n",
    "ax.set_yticklabels(['Job {}'.format(job) for job in range(n_jobs, -1, -1)])\n",
    "plt.legend(handles=[mpatches.Patch(color=colors[maq], label='Maq {}'.format(maq)) for maq in range(n_maq)],\n",
    "               bbox_to_anchor=(1.05, 1), loc=2, borderaxespad=0.)\n",
    "plt.show()"
   ]
  },
  {
   "cell_type": "markdown",
   "metadata": {
    "colab_type": "text",
    "id": "Gl6zN3uYkWYY"
   },
   "source": [
    "## Shifting bottleneck heuristic\n",
    "El Shifting Bottleneck Heuristic es un procedimiento destinado a minimizar el tiempo que se tarda en hacer el trabajo, o específicamente, el makepan en un taller de trabajo. El makespan se define como la cantidad de tiempo, de principio a fin, para completar un conjunto de trabajos con varias máquinas en los que el pedido de la máquina está preestablecido para cada trabajo. Suponiendo que los puestos de trabajo compitan realmente por los mismos recursos (máquinas), siempre habrá uno o más recursos que actúen como un \"cuello de botella\" en el procesamiento. Este procedimiento heurístico o \"regla empírica\" minimiza el efecto del cuello de botella."
   ]
  },
  {
   "cell_type": "code",
   "execution_count": null,
   "metadata": {
    "colab": {},
    "colab_type": "code",
    "id": "dGtsMFBekVyn"
   },
   "outputs": [],
   "source": [
    "import networkx as nx"
   ]
  },
  {
   "cell_type": "code",
   "execution_count": null,
   "metadata": {
    "colab": {},
    "colab_type": "code",
    "id": "gBRlJXMZFPV7"
   },
   "outputs": [],
   "source": [
    "class Job(object):\n",
    "    def __init__(self, Id, r, p):\n",
    "        self.Id = Id\n",
    "        self.r = r  # route\n",
    "        self.p = p  # processing times"
   ]
  },
  {
   "cell_type": "code",
   "execution_count": null,
   "metadata": {
    "colab": {},
    "colab_type": "code",
    "id": "2M_GidzQFR94"
   },
   "outputs": [],
   "source": [
    "class Jobshop(nx.DiGraph):\n",
    "    def __init__(self):  # , jobs):\n",
    "        super().__init__()\n",
    "        self.machines = {}\n",
    "        self.add_node(\"U\", p=0)\n",
    "        self.add_node(\"V\", p=0)\n",
    "\n",
    "    def handleJobRoutings(self, jobs):\n",
    "        for j in jobs.values():\n",
    "            self.add_edge(\"U\", (j.r[0], j.Id))\n",
    "            for m, n in zip(j.r[:-1], j.r[1:]):\n",
    "                self.add_edge((m, j.Id), (n, j.Id))\n",
    "            self.add_edge((j.r[-1], j.Id), \"V\")\n",
    "\n",
    "    def handleJobProcessingTimes(self, jobs):\n",
    "        for j in jobs.values():\n",
    "            for m, p in zip(j.r, j.p):\n",
    "                self.add_node((m, j.Id), p=p)\n",
    "\n",
    "    def makeMachineSubgraphs(self):\n",
    "        machineIds = set(ij[0] for ij in self if ij[0] not in (\"U\", \"V\"))\n",
    "        for m in machineIds:\n",
    "            self.machines[m] = self.subgraph(ij for ij in self if ij[0] == m)\n",
    "            self.machines[m].remove_nodes_from([\"U\", \"V\"])\n",
    "\n",
    "    def addJobs(self, jobs):\n",
    "        self.handleJobRoutings(jobs)\n",
    "        self.handleJobProcessingTimes(jobs)\n",
    "        self.makeMachineSubgraphs()\n",
    "\n",
    "    def output(self):\n",
    "        for m in sorted(self.machines):\n",
    "            for j in sorted(self.machines[m]):\n",
    "                print(\"{}: {}\".format(j, self.node[j]['C']))"
   ]
  }
 ],
 "metadata": {
  "colab": {
   "collapsed_sections": [],
   "name": "job_shop.ipynb",
   "provenance": []
  },
  "kernelspec": {
   "display_name": "Python 3",
   "language": "python",
   "name": "python3"
  },
  "language_info": {
   "codemirror_mode": {
    "name": "ipython",
    "version": 3
   },
   "file_extension": ".py",
   "mimetype": "text/x-python",
   "name": "python",
   "nbconvert_exporter": "python",
   "pygments_lexer": "ipython3",
   "version": "3.7.3"
  }
 },
 "nbformat": 4,
 "nbformat_minor": 2
}
